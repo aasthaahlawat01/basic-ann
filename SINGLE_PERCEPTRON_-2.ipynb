{
  "nbformat": 4,
  "nbformat_minor": 0,
  "metadata": {
    "colab": {
      "provenance": []
    },
    "kernelspec": {
      "name": "python3",
      "display_name": "Python 3"
    },
    "language_info": {
      "name": "python"
    }
  },
  "cells": [
    {
      "cell_type": "code",
      "execution_count": null,
      "metadata": {
        "id": "heiGY5kwDxfB"
      },
      "outputs": [],
      "source": [
        "import numpy as np\n",
        "import pandas as pd\n",
        "import matplotlib.pyplot as plt\n",
        "import seaborn as sns\n",
        "import warnings\n",
        "warnings.filterwarnings('ignore')\n",
        "from sklearn.datasets import make_blobs"
      ]
    },
    {
      "cell_type": "code",
      "source": [
        "X,Y =make_blobs(n_samples=100,n_features=2,centers=2,random_state=42)\n",
        "print(X.shape)\n",
        "print(Y.shape)"
      ],
      "metadata": {
        "colab": {
          "base_uri": "https://localhost:8080/"
        },
        "id": "KzHVpHT5rXAc",
        "outputId": "4d6a0366-2b29-4361-ba64-1f20f8142359"
      },
      "execution_count": null,
      "outputs": [
        {
          "output_type": "stream",
          "name": "stdout",
          "text": [
            "(100, 2)\n",
            "(100,)\n"
          ]
        }
      ]
    },
    {
      "cell_type": "code",
      "source": [
        "sns.scatterplot(x=X[:,0],y=X[:,1],hue=Y)"
      ],
      "metadata": {
        "colab": {
          "base_uri": "https://localhost:8080/",
          "height": 445
        },
        "id": "5jl7sPigroT3",
        "outputId": "eef17d05-a95f-42d5-f7a0-016bae36fc42"
      },
      "execution_count": null,
      "outputs": [
        {
          "output_type": "execute_result",
          "data": {
            "text/plain": [
              "<Axes: >"
            ]
          },
          "metadata": {},
          "execution_count": 4
        },
        {
          "output_type": "display_data",
          "data": {
            "text/plain": [
              "<Figure size 640x480 with 1 Axes>"
            ],
            "image/png": "[encoded data removed]"
          },
          "metadata": {}
        }
      ]
    },
    {
      "cell_type": "code",
      "source": [],
      "metadata": {
        "id": "Xo0Lnooh3bIl"
      },
      "execution_count": null,
      "outputs": []
    },
    {
      "cell_type": "markdown",
      "source": [
        "IMPORTANT FUNCTIONS"
      ],
      "metadata": {
        "id": "H15vxKFRtqvc"
      }
    },
    {
      "cell_type": "code",
      "source": [
        "def sigmoid(z):\n",
        "  return 1/(1+np.exp(-z))"
      ],
      "metadata": {
        "id": "O9xO7q4hts1P"
      },
      "execution_count": null,
      "outputs": []
    },
    {
      "cell_type": "markdown",
      "source": [
        "PREDICT"
      ],
      "metadata": {
        "id": "ADQTYvKZt0bm"
      }
    },
    {
      "cell_type": "code",
      "source": [
        "def predict(x, weights):\n",
        "  z=np.dot(x,weights)\n",
        "\n",
        "  return sigmoid(z)"
      ],
      "metadata": {
        "id": "X2z4XfqGty76"
      },
      "execution_count": null,
      "outputs": []
    },
    {
      "cell_type": "markdown",
      "source": [
        "LOSS"
      ],
      "metadata": {
        "id": "iB_ylvYGuBu8"
      }
    },
    {
      "cell_type": "code",
      "source": [
        "def loss(y,y_hat):\n",
        "  return -np.mean(y*(np.log(y_hat))+(1-y)*np.log(1-y_hat))\n"
      ],
      "metadata": {
        "id": "oR7K5YGFuCfI"
      },
      "execution_count": null,
      "outputs": []
    },
    {
      "cell_type": "markdown",
      "source": [
        "UPDATE"
      ],
      "metadata": {
        "id": "9rVNYIRruXSR"
      }
    },
    {
      "cell_type": "code",
      "source": [
        "def update(x,y,weights,learning_rate):\n",
        "  y_hat=predict(x,weights)\n",
        "  dw=np.dot(x.T,(y_hat-y))/x.shape[0]\n",
        "  weights=weights-learning_rate*dw\n",
        "  return weights"
      ],
      "metadata": {
        "id": "zaTpMViDuY1c"
      },
      "execution_count": null,
      "outputs": []
    },
    {
      "cell_type": "markdown",
      "source": [
        "TRAIN"
      ],
      "metadata": {
        "id": "5G7mP1DEyioW"
      }
    },
    {
      "cell_type": "code",
      "source": [
        "def train(x,y,learning_rate,epocs):\n",
        "  ones=np.ones((x.shape[0],1))\n",
        "  x=np.hstack((ones,x))\n",
        "\n",
        "  weights=np.zeros((x.shape[1]))\n",
        "\n",
        "  for epoch in range(epocs):\n",
        "    weights=update(x,y,weights,learning_rate)\n",
        "\n",
        "    if(epoch%100==0):\n",
        "      loss_value=loss(y,predict(x,weights))\n",
        "      print(f\"epoch:{epoch} loss:{loss_value}\")\n",
        "\n",
        "\n",
        "  return weights\n",
        "\n",
        "\n"
      ],
      "metadata": {
        "id": "aMjpLvjjyjqM"
      },
      "execution_count": null,
      "outputs": []
    },
    {
      "cell_type": "code",
      "source": [
        "weights=train(X,Y,0.01,1000)"
      ],
      "metadata": {
        "colab": {
          "base_uri": "https://localhost:8080/"
        },
        "id": "vQys8bStzj6P",
        "outputId": "67725361-191f-46e5-d6bf-29edf6f98bd2"
      },
      "execution_count": null,
      "outputs": [
        {
          "output_type": "stream",
          "name": "stdout",
          "text": [
            "epoch:0 loss:0.6341823027072981\n",
            "epoch:100 loss:0.06904660822944354\n",
            "epoch:200 loss:0.036510815052413055\n",
            "epoch:300 loss:0.025009522638035842\n",
            "epoch:400 loss:0.01910895474035573\n",
            "epoch:500 loss:0.015508632312417552\n",
            "epoch:600 loss:0.013077613482733452\n",
            "epoch:700 loss:0.01132297584827869\n",
            "epoch:800 loss:0.009995243636820451\n",
            "epoch:900 loss:0.008954481958334828\n"
          ]
        }
      ]
    },
    {
      "cell_type": "code",
      "source": [
        "weights"
      ],
      "metadata": {
        "id": "Iys_PxLF3b6S",
        "colab": {
          "base_uri": "https://localhost:8080/"
        },
        "outputId": "c7c8e187-d627-4c1a-b6ef-e7de4f0d40a5"
      },
      "execution_count": null,
      "outputs": [
        {
          "output_type": "execute_result",
          "data": {
            "text/plain": [
              "array([ 0.13283371,  1.19500844, -0.31786504])"
            ]
          },
          "metadata": {},
          "execution_count": 13
        }
      ]
    },
    {
      "cell_type": "markdown",
      "source": [
        "PREDICTIONS"
      ],
      "metadata": {
        "id": "A963w1wK3cIg"
      }
    },
    {
      "cell_type": "code",
      "source": [
        "def get_prediction(x,weights,label=True):\n",
        "  if(x.shape[1]!=weights.shape[0]):\n",
        "    ones=np.ones((x.shape[0],1))\n",
        "    x=np.hstack((ones,x))\n",
        "\n",
        "  prob=predict(x,weights)\n",
        "  if(label==True):\n",
        "    labels=np.zeros((prob.shape[0]))\n",
        "    labels[prob>=0.5]=1\n",
        "    return labels\n",
        "  else:\n",
        "    return prob"
      ],
      "metadata": {
        "id": "etCFl2xp3eiS"
      },
      "execution_count": null,
      "outputs": []
    },
    {
      "cell_type": "code",
      "source": [
        "x_vals=np.linspace(X[:,0].min()-1,X[:,0].max()+1,100)\n",
        "y_vals=-(weights[0]+weights[1]*x_vals)/weights[2]"
      ],
      "metadata": {
        "id": "6-y1i5DuweOF"
      },
      "execution_count": null,
      "outputs": []
    },
    {
      "cell_type": "code",
      "source": [],
      "metadata": {
        "id": "1_fpmY0QyeY9"
      },
      "execution_count": null,
      "outputs": []
    },
    {
      "cell_type": "markdown",
      "source": [
        "VISUALIZATION"
      ],
      "metadata": {
        "id": "k_LMXjERye4U"
      }
    },
    {
      "cell_type": "code",
      "source": [
        "plt.scatter(X[:,0],X[:,1],c=Y)\n",
        "plt.plot(x_vals,y_vals,c='r')\n",
        "plt.show()"
      ],
      "metadata": {
        "colab": {
          "base_uri": "https://localhost:8080/",
          "height": 429
        },
        "id": "RRNZunhUygO4",
        "outputId": "4a8506ac-59fe-4865-9967-5d7923803bfb"
      },
      "execution_count": null,
      "outputs": [
        {
          "output_type": "display_data",
          "data": {
            "text/plain": [
              "<Figure size 640x480 with 1 Axes>"
            ],
            "image/png": "[encoded data removed]"
          },
          "metadata": {}
        }
      ]
    }
  ]
}